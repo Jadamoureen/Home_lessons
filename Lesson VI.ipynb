{
 "cells": [
  {
   "cell_type": "markdown",
   "metadata": {},
   "source": [
    "# Dictionaries "
   ]
  },
  {
   "cell_type": "code",
   "execution_count": null,
   "metadata": {},
   "outputs": [],
   "source": [
    "# When was Plato born?\n",
    "\n",
    "dict={\"name\": \"Plato\", \n",
    "      \"country\": \"Ancient Greece\", \n",
    "      \"born\": -427, \n",
    "      \"teacher\": \"Socrates\", \n",
    "      \"student\": \"Aristotle\"}\n",
    "\n",
    "ans_1=\n",
    "\n",
    "print(ans_1)\n"
   ]
  },
  {
   "cell_type": "code",
   "execution_count": null,
   "metadata": {},
   "outputs": [],
   "source": [
    "#Change Plato's birth year from B.C. 427 to B.C. 328.\n",
    "\n",
    "dict={\"name\": \"Plato\", \n",
    "      \"country\": \"Ancient Greece\", \n",
    "      \"born\": -427, \n",
    "      \"teacher\": \"Socrates\", \n",
    "      \"student\": \"Aristotle\"}\n",
    "\n",
    "print(dict[\"born\"])\n"
   ]
  },
  {
   "cell_type": "code",
   "execution_count": null,
   "metadata": {},
   "outputs": [],
   "source": [
    "#add the key \"work\" to dict.\n",
    "\n",
    "\n",
    "#\"work\": [\"Apology\", \"Phaedo\", \"Republic\", \"Symposium\"]\n",
    "\n",
    "dict={\"name\": \"Plato\", \n",
    "      \"country\": \"Ancient Greece\", \n",
    "      \"born\": -427, \n",
    "      \"teacher\": \"Socrates\", \n",
    "      \"student\": \"Aristotle\"}\n",
    "\n",
    "print(dict)"
   ]
  },
  {
   "cell_type": "code",
   "execution_count": null,
   "metadata": {},
   "outputs": [],
   "source": [
    "#Add 2 inches to the son's height.\n",
    "\n",
    "dict={\"son's name\": \"Lucas\", \n",
    "      \"son's eyes\": \"green\", \n",
    "      \"son's height\": 32, \n",
    "      \"son's weight\": 25}\n",
    "\n",
    "\n",
    "\n",
    "print(dict)"
   ]
  },
  {
   "cell_type": "code",
   "execution_count": null,
   "metadata": {},
   "outputs": [],
   "source": [
    "#Using .items() method generate a list of tuples consisted of \n",
    "#each key value pair.\n",
    "\n",
    "dict={\"son's name\": \"Lucas\", \n",
    "      \"son's eyes\": \"green\", \n",
    "      \"son's height\": 32, \n",
    "      \"son's weight\": 25}\n",
    "\n",
    "ans_2=\n",
    "\n",
    "print(ans_2)\n"
   ]
  },
  {
   "cell_type": "code",
   "execution_count": null,
   "metadata": {},
   "outputs": [],
   "source": [
    "#Using .get() method print the value of \"son's eyes\".\n",
    "\n",
    "dict={\"son's name\": \"Lucas\", \n",
    "      \"son's eyes\": \"green\", \n",
    "      \"son's height\": 32, \n",
    "      \"son's weight\": 25}\n",
    "\n",
    "ans_3=\n",
    "\n",
    "print (ans_3)\n",
    "\n"
   ]
  },
  {
   "cell_type": "code",
   "execution_count": null,
   "metadata": {},
   "outputs": [],
   "source": [
    "#make the .get() return \"2\".\n",
    "\n",
    "dict={\"son's name\": \"Lucas\", \n",
    "      \"son's eyes\": \"green\", \n",
    "      \"son's height\": 32, \n",
    "      \"son's weight\": 25}\n",
    "\n",
    "ans_4=\n",
    "\n",
    "print (ans_4)\n",
    "\n"
   ]
  },
  {
   "cell_type": "code",
   "execution_count": null,
   "metadata": {},
   "outputs": [],
   "source": [
    "#.clear() is one of them and it clears the whole dictionary.\n",
    "\n",
    "dict={\"son's name\": \"Lucas\", \n",
    "      \"son's eyes\": \"green\", \n",
    "      \"son's height\": 32, \n",
    "      \"son's weight\": 25}\n",
    "\n",
    "print(dict)\n"
   ]
  },
  {
   "cell_type": "code",
   "execution_count": null,
   "metadata": {},
   "outputs": [],
   "source": [
    "#Using len function, find how many keys there are in the dictionary.\n",
    "\n",
    "dict={\"son's name\": \"Lucas\", \n",
    "      \"son's eyes\": \"green\", \n",
    "      \"son's height\": 32, \n",
    "      \"son's weight\": 25}\n",
    "\n",
    "ans_5=\n",
    "\n",
    "print (ans_5)\n"
   ]
  },
  {
   "cell_type": "code",
   "execution_count": null,
   "metadata": {},
   "outputs": [],
   "source": [
    "#What's the key with the highest value in the dictionary?\n",
    "\n",
    "dict={\"son's name\": \"Lucas\", \n",
    "      \"son's eyes\": \"green\", \n",
    "      \"son's height\": 32, \n",
    "      \"son's weight\": 25}\n",
    "\n",
    "ans_6=\n",
    "\n",
    "print (ans_6)"
   ]
  },
  {
   "cell_type": "code",
   "execution_count": null,
   "metadata": {},
   "outputs": [],
   "source": [
    "#What's the key with the lowest value in the dictionary?\n",
    "\n",
    "dict={\"son's name\": \"Lucas\", \n",
    "      \"son's eyes\": \"green\", \n",
    "      \"son's height\": 32, \n",
    "      \"son's weight\": 25}\n",
    "\n",
    "ans_7=\n",
    "\n",
    "print (ans_7)"
   ]
  }
 ],
 "metadata": {
  "kernelspec": {
   "display_name": "Python 3",
   "language": "python",
   "name": "python3"
  },
  "language_info": {
   "codemirror_mode": {
    "name": "ipython",
    "version": 3
   },
   "file_extension": ".py",
   "mimetype": "text/x-python",
   "name": "python",
   "nbconvert_exporter": "python",
   "pygments_lexer": "ipython3",
   "version": "3.8.5"
  }
 },
 "nbformat": 4,
 "nbformat_minor": 4
}
