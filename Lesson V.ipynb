{
 "cells": [
  {
   "cell_type": "markdown",
   "metadata": {},
   "source": [
    "# Lists Exercises"
   ]
  },
  {
   "cell_type": "code",
   "execution_count": null,
   "metadata": {},
   "outputs": [],
   "source": [
    "#Assign the first element of the list to ans\n",
    "\n",
    "lst=[11, 100, 99, 1000, 999]\n",
    "ans=\n",
    "\n",
    "print(ans)\n",
    "\n"
   ]
  },
  {
   "cell_type": "code",
   "execution_count": null,
   "metadata": {},
   "outputs": [],
   "source": [
    "# print the second element inside the print function.\n",
    "\n",
    "lst=[11, 100, 101, 999, 1001]\n",
    "\n",
    "print()"
   ]
  },
  {
   "cell_type": "code",
   "execution_count": null,
   "metadata": {},
   "outputs": [],
   "source": [
    "#Assign the last element of the list to ans_1\n",
    "\n",
    "lst=[11, 100, 101, 999, 1001]\n",
    "\n",
    "\n",
    "ans_1=\n",
    "\n",
    "print(ans_1)"
   ]
  },
  {
   "cell_type": "code",
   "execution_count": null,
   "metadata": {},
   "outputs": [],
   "source": [
    "#.append method will let you add items to your lists.\n",
    "#add the string \"pajamas\" to the list with .append() method.\n",
    "\n",
    "gift_list=['socks', '4K drone', 'wine', 'jam']\n",
    "\n",
    "print(gift_list)\n"
   ]
  },
  {
   "cell_type": "code",
   "execution_count": null,
   "metadata": {},
   "outputs": [],
   "source": [
    "#add the sub-list: [\"socks\", \"tshirt\", \"pajamas\"] \n",
    "#to the end of the gift_list.\n",
    "\n",
    "gift_list=['socks', '4K drone', 'wine', 'jam']\n",
    "\n",
    "\n",
    "print(gift_list)\n"
   ]
  },
  {
   "cell_type": "code",
   "execution_count": null,
   "metadata": {},
   "outputs": [],
   "source": [
    "# insert \"slippers\" to index 3 of gift_list.\n",
    "\n",
    "gift_list=['socks', '4K drone', 'wine', 'jam']\n",
    "\n",
    "\n",
    "print(gift_list)"
   ]
  },
  {
   "cell_type": "code",
   "execution_count": null,
   "metadata": {},
   "outputs": [],
   "source": [
    "#With .index() method you can learn the index number of \n",
    "#an item inside your list. \n",
    "#Assign the index no of 101\n",
    "\n",
    "lst=[55, 777, 54, 6, 76, 101, 1, 2, 8679, 123, 99]\n",
    "\n",
    "ans_2=\n",
    "\n",
    "print(ans_2)"
   ]
  },
  {
   "cell_type": "code",
   "execution_count": null,
   "metadata": {},
   "outputs": [],
   "source": [
    "#Using .append() method, \n",
    "#add a new list to the end of the list which \n",
    "#contains strings: \"Navigator\" and \"Suburban\".\n",
    "\n",
    "lst=[\"CRV\", \"Outback\", \"XC90\", \"GL\", \"Cherokee\", \"Escalade\"]\n",
    "\n",
    "\n",
    "print(lst)"
   ]
  },
  {
   "cell_type": "code",
   "execution_count": null,
   "metadata": {},
   "outputs": [],
   "source": [
    "#Using .remove() method, clear the last element of the list.\n",
    "\n",
    "lst=[55, 777, 54, 6, 76, 101, 1, 2, 8679, 123, 99]\n",
    "\n",
    "\n",
    "print(lst)"
   ]
  },
  {
   "cell_type": "code",
   "execution_count": null,
   "metadata": {},
   "outputs": [],
   "source": [
    "#Using .reverse() method, reverse the list.\n",
    "\n",
    "lst=[55, 777, 54, 6, 76, 101, 1, 2, 8679, 123, 99]\n",
    "\n",
    "\n",
    "print(lst)"
   ]
  },
  {
   "cell_type": "code",
   "execution_count": null,
   "metadata": {},
   "outputs": [],
   "source": [
    "#Using .count() method, count how many times 6 occur in the list.\n",
    "\n",
    "lst=[55, 6, 777, 54, 6, 76, 101, 1, 6, 2, 6]\n",
    "\n",
    "\n",
    "ans_3=\n",
    "\n",
    "print(ans_3)"
   ]
  },
  {
   "cell_type": "code",
   "execution_count": null,
   "metadata": {},
   "outputs": [],
   "source": [
    "#What is the sum of all the numbers in the list?\n",
    "\n",
    "lst=[55, 6, 777, 54, 6, 76, 101, 1, 6, 2, 6]\n",
    "\n",
    "\n",
    "ans_4=\n",
    "\n",
    "print(ans_4)"
   ]
  },
  {
   "cell_type": "code",
   "execution_count": null,
   "metadata": {},
   "outputs": [],
   "source": [
    "#What is the minimum value in the list?\n",
    "\n",
    "lst=[55, 6, 777, 54, 6, 76, 101, 1, 6, 2, 6]\n",
    "\n",
    "\n",
    "ans_5=\n",
    "\n",
    "print(ans_5)\n"
   ]
  },
  {
   "cell_type": "code",
   "execution_count": null,
   "metadata": {},
   "outputs": [],
   "source": [
    "#What is the maximum value in the list?\n",
    "\n",
    "lst=[55, 6, 777, 54, 6, 76, 101, 1, 6, 2, 6]\n",
    "\n",
    "\n",
    "ans_6=\n",
    "\n",
    "print(ans_6)"
   ]
  }
 ],
 "metadata": {
  "kernelspec": {
   "display_name": "Python 3",
   "language": "python",
   "name": "python3"
  },
  "language_info": {
   "codemirror_mode": {
    "name": "ipython",
    "version": 3
   },
   "file_extension": ".py",
   "mimetype": "text/x-python",
   "name": "python",
   "nbconvert_exporter": "python",
   "pygments_lexer": "ipython3",
   "version": "3.8.5"
  }
 },
 "nbformat": 4,
 "nbformat_minor": 4
}
